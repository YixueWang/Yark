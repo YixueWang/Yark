{
 "metadata": {
  "name": "",
  "signature": "sha256:0c959a6569bf280dd5c96c8624eed54f725e5ab0c422bee9c5bcf22d579d0b7c"
 },
 "nbformat": 3,
 "nbformat_minor": 0,
 "worksheets": [
  {
   "cells": [
    {
     "cell_type": "code",
     "collapsed": false,
     "input": [
      "#*****************PROJECT YARK*********************/\n",
      "#* Ariel Boris Dexter bad225@nyu.edu */\n",
      "#* Kania Azrina ka1531@nyu.edu       */\n",
      "#* Michael Rawson mr4209             */\n",
      "#* Yixue Wang yw1819@nyu.edu         */\n",
      "#**************************************************/\n",
      "\n",
      "%matplotlib inline\n",
      "\n",
      "#import required packages\n",
      "import sys\n",
      "import datetime\n",
      "import csv\n",
      "import math\n",
      "import pandas as pd \n",
      "import numpy as np \n",
      "from scipy import stats \n",
      "import statsmodels.formula.api as sm\n",
      "import matplotlib.pyplot as plt\n",
      "from statsmodels.sandbox.regression.predstd import wls_prediction_std\n",
      "from mpltools import style\n",
      "from mpltools import layout\n",
      "from pandas.tools.plotting import autocorrelation_plot\n",
      "import json"
     ],
     "language": "python",
     "metadata": {},
     "outputs": [
      {
       "output_type": "stream",
       "stream": "stderr",
       "text": [
        "/Library/Python/2.7/site-packages/pytz/__init__.py:29: UserWarning: Module pyparsing was already imported from /System/Library/Frameworks/Python.framework/Versions/2.7/Extras/lib/python/pyparsing.pyc, but /Library/Python/2.7/site-packages is being added to sys.path\n",
        "  from pkg_resources import resource_stream\n",
        "/Library/Python/2.7/site-packages/pytz/__init__.py:29: UserWarning: Module six was already imported from /System/Library/Frameworks/Python.framework/Versions/2.7/Extras/lib/python/six.pyc, but /Library/Python/2.7/site-packages is being added to sys.path\n",
        "  from pkg_resources import resource_stream\n"
       ]
      }
     ],
     "prompt_number": 1
    },
    {
     "cell_type": "code",
     "collapsed": false,
     "input": [
      "#import news from pig\n",
      "news = pd.read_csv(\"extracted_topics\", sep='\t', names=['CountryID', 'SequenceID', 'Timestamp','Title','Story','Keywords','Country','Region'])"
     ],
     "language": "python",
     "metadata": {},
     "outputs": [],
     "prompt_number": 9
    },
    {
     "cell_type": "code",
     "collapsed": false,
     "input": [
      "#parse the date\n",
      "news['Timestamp'] = pd.to_datetime(news['Timestamp'].str[:10], format = '%Y-%m-%d')\n",
      "news['Timestamp'] = news['Timestamp'].values.astype('M8[D]')"
     ],
     "language": "python",
     "metadata": {},
     "outputs": [],
     "prompt_number": 10
    },
    {
     "cell_type": "code",
     "collapsed": false,
     "input": [
      "#for each topic, get the dates where it occurs and its country\n",
      "def getDateCount(topic) :\n",
      "    filteredNews = news[news['Keywords'].str.contains(topic)]\n",
      "    dates = filteredNews['Timestamp'].tolist()\n",
      "    datesCount = {}\n",
      "    for date in dates :\n",
      "        if date not in datesCount:\n",
      "            datesCount[date] = 1\n",
      "        else :\n",
      "            datesCount[date] += 1\n",
      "    return datesCount"
     ],
     "language": "python",
     "metadata": {},
     "outputs": [],
     "prompt_number": 11
    },
    {
     "cell_type": "code",
     "collapsed": false,
     "input": [
      "#load treasury data (and percent changes)\n",
      "treasury = pd.read_csv('treasury.csv', names=['Date', 'PercentChange'],header=True, parse_dates=True)\n",
      "treasury['Date'] = pd.to_datetime(treasury['Date'].str[:10], format = '%Y-%m-%d')\n",
      "treasury['PercentChange'] = treasury['PercentChange'].convert_objects(convert_numeric=True)\n",
      "treasury = treasury.set_index(pd.DatetimeIndex(treasury['Date']))"
     ],
     "language": "python",
     "metadata": {},
     "outputs": [],
     "prompt_number": 13
    },
    {
     "cell_type": "code",
     "collapsed": false,
     "input": [
      "keyword_dict = {}\n",
      "id_counter = 0\n",
      "\n",
      "sample_keywords = \"{(enjoyed broad public support,14.5),(host nation sweden acknowledged,13.5),(international donors urged somalia,12.833333333333334),(international contact group,8.166666666666668),(rebuild nation,5.0),(formal donors,5.0),(contact group,4.666666666666667),(large swathes,4.0),(planned talks,4.0),(us-backed warlords,4.0),(interim government,4.0),(european nations,4.0),(strong signal,4.0),(african states,4.0),(capital mogadishu,4.0),(arab league,4.0),(power-sharing deal,4.0),(somalia meeting,3.8333333333333335),(sweden,2.5),(support,2.5),(somalia,2.3333333333333335),(meeting,1.5),(seized,1.0),(rome,1.0),(year,1.0),(strike,1.0),(includes,1.0),(stockholm,1.0),(give,1.0),(wanted,1.0),(hold,1.0),(led,1.0),(south,1.0),(soder,1.0),(tuesday,1.0),(ready,1.0),(islamists,1.0),(information,1.0),(sides,1.0),(send,1.0),(distributed,1.0),(money,1.0),(khartoum,1.0),(italy,1.0),(table,1.0),(vital,1.0),(reconstruction,1.0),(week,1.0)}\"\n",
      "\n",
      "#refine keywords by specific parameter\n",
      "def refine_keywords(sample_keywords):\n",
      "    global id_counter\n",
      "    max_words_length = 4\n",
      "    min_words_length = 1\n",
      "    min_char_length = 5\n",
      "    \n",
      "    keywords = {}\n",
      "    sample_keywords = sample_keywords.replace('{','')\n",
      "    sample_keywords = sample_keywords.replace('}','')\n",
      "    sample_keywords = sample_keywords.replace(\"000 \",\"\")\n",
      "\n",
      "    keywords_list = sample_keywords.split(\"),(\")\n",
      "    \n",
      "    final_keywords = []\n",
      "    \n",
      "    for keyword_score in keywords_list :\n",
      "        \n",
      "        keyword_score = keyword_score.replace('(','')\n",
      "        keyword_score = keyword_score.replace(')','')\n",
      "        \n",
      "        if keyword_score != (\"\") :\n",
      "            keyword = keyword_score.split(\",\")[0]\n",
      "            score = keyword_score.split(\",\")[1]\n",
      "        \n",
      "            keyword_length = len(keyword.split(\" \"))\n",
      "            \n",
      "\n",
      "            if len(keyword) > min_char_length:\n",
      "                if ((keyword_length < max_words_length) and (keyword_length > min_words_length)):\n",
      "                    digits = 0\n",
      "                    alpha = 0\n",
      "                    for i in range(0, len(keyword)):\n",
      "                        if keyword[i].isdigit():\n",
      "                            digits += 1\n",
      "                        elif keyword[i].isalpha():\n",
      "                            alpha += 1\n",
      "                    if alpha != 0:\n",
      "                        if digits < alpha:\n",
      "                            keyword = keyword.replace(\"/\",\"\")\n",
      "                            keyword = keyword.replace(\"-\",\"\")\n",
      "                            \n",
      "                            keyword = keyword.replace(\" _ \",\"\")\n",
      "                            \n",
      "                            if keyword != \"000\":\n",
      "                                if keyword in keyword_dict:\n",
      "                                    keyword_dict[keyword]['count'] += 1\n",
      "                                else :\n",
      "                                    keyword_dict[keyword] = {}\n",
      "                                    keyword_dict[keyword]['count'] = 1\n",
      "                                    \n",
      "                                    keyword_dict[keyword]['id'] = id_counter\n",
      "                                    id_counter += 1\n",
      "                                final_keywords.append(keyword_dict[keyword]['id'])\n",
      "    string = \" \".join(str(x) for x in final_keywords)\n",
      "    \n",
      "    return string"
     ],
     "language": "python",
     "metadata": {},
     "outputs": [],
     "prompt_number": 15
    },
    {
     "cell_type": "code",
     "collapsed": false,
     "input": [
      "#refine keywords for each row, and generate the count for each keywords\n",
      "refined_news = news\n",
      "refined_news['Keywords'] = refined_news['Keywords'].apply(refine_keywords)\n",
      "refined_news['Count'] = refined_news['Keywords'].apply(lambda x : len(x))"
     ],
     "language": "python",
     "metadata": {},
     "outputs": [],
     "prompt_number": 16
    },
    {
     "cell_type": "code",
     "collapsed": false,
     "input": [
      "#export the table csv to be used by R to mine the pattern\n",
      "r_input_refined = refined_news[['CountryID','SequenceID','Count','Keywords']]\n",
      "r_input_refined = r_input_refined[r_input_refined['SequenceID'] >0]\n",
      "r_input_refined = r_input_refined.sort(['CountryID', 'SequenceID'], ascending=[1, 1])"
     ],
     "language": "python",
     "metadata": {},
     "outputs": [],
     "prompt_number": 17
    },
    {
     "cell_type": "code",
     "collapsed": false,
     "input": [
      "r_input_refined.to_csv(\"r_input_refined\", index=False, sep=\"\t\", header=False)"
     ],
     "language": "python",
     "metadata": {},
     "outputs": [],
     "prompt_number": 18
    },
    {
     "cell_type": "code",
     "collapsed": false,
     "input": [
      "keyword_list = pd.DataFrame(keyword_dict.items()) "
     ],
     "language": "python",
     "metadata": {},
     "outputs": [],
     "prompt_number": 19
    },
    {
     "cell_type": "code",
     "collapsed": false,
     "input": [
      "#generate keyword id and map\n",
      "keyword_list['count'] = keyword_list[1].apply(lambda x : x['count']) \n",
      "keyword_list['id'] = keyword_list[1].apply(lambda x : x['id']) \n",
      "keyword_list['keyword'] = keyword_list[0]\n",
      "keyword_list = keyword_list.sort(['id'], ascending=1)\n",
      "keyword_list_final = keyword_list[['id','keyword','count']]"
     ],
     "language": "python",
     "metadata": {},
     "outputs": [],
     "prompt_number": 20
    },
    {
     "cell_type": "code",
     "collapsed": false,
     "input": [
      "keyword_list_final= keyword_list_final.sort(['count'], ascending=0)"
     ],
     "language": "python",
     "metadata": {},
     "outputs": [],
     "prompt_number": 21
    },
    {
     "cell_type": "code",
     "collapsed": false,
     "input": [
      "keyword_list_final.to_csv('keyword_list_sorted.csv',index=False)"
     ],
     "language": "python",
     "metadata": {},
     "outputs": [],
     "prompt_number": 21
    }
   ],
   "metadata": {}
  }
 ]
}