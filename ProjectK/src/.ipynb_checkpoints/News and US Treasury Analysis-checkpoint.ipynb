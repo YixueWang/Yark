{
 "metadata": {
  "name": "",
  "signature": "sha256:f730bfa3e53ed27de1135da9200e02ba68c12ed2714ec14e2a088ed41ed82b2a"
 },
 "nbformat": 3,
 "nbformat_minor": 0,
 "worksheets": [
  {
   "cells": [
    {
     "cell_type": "code",
     "collapsed": false,
     "input": [
      "#*****************PROJECT YARK*********************/\n",
      "#* Ariel Boris Dexter bad225@nyu.edu */\n",
      "#* Kania Azrina ka1531@nyu.edu       */\n",
      "#* Michael Rawson mr4209             */\n",
      "#* Yixue Wang yw1819@nyu.edu         */\n",
      "#**************************************************/\n",
      "\n",
      "%matplotlib inline\n",
      "\n",
      "#import required packages\n",
      "import sys\n",
      "import datetime\n",
      "import csv\n",
      "import math\n",
      "import pandas as pd \n",
      "import numpy as np \n",
      "from scipy import stats \n",
      "import statsmodels.formula.api as sm\n",
      "import matplotlib.pyplot as plt\n",
      "from statsmodels.sandbox.regression.predstd import wls_prediction_std\n",
      "from mpltools import style\n",
      "from mpltools import layout\n",
      "from pandas.tools.plotting import autocorrelation_plot\n",
      "import json"
     ],
     "language": "python",
     "metadata": {},
     "outputs": [
      {
       "output_type": "stream",
       "stream": "stderr",
       "text": [
        "/Library/Python/2.7/site-packages/pytz/__init__.py:29: UserWarning: Module pyparsing was already imported from /System/Library/Frameworks/Python.framework/Versions/2.7/Extras/lib/python/pyparsing.pyc, but /Library/Python/2.7/site-packages is being added to sys.path\n",
        "  from pkg_resources import resource_stream\n",
        "/Library/Python/2.7/site-packages/pytz/__init__.py:29: UserWarning: Module six was already imported from /System/Library/Frameworks/Python.framework/Versions/2.7/Extras/lib/python/six.pyc, but /Library/Python/2.7/site-packages is being added to sys.path\n",
        "  from pkg_resources import resource_stream\n"
       ]
      }
     ],
     "prompt_number": 2
    },
    {
     "cell_type": "code",
     "collapsed": false,
     "input": [
      "#import news from pig\n",
      "news = pd.read_csv('../data/extracted_topics', sep='\t', names=['CountryID', 'SequenceID', 'Timestamp',\n",
      "                                                          'Title','Story','Keywords','Country','Region'])\n",
      "news['Timestamp'] = pd.to_datetime(news['Timestamp'].str[:10], format = '%Y-%m-%d')\n",
      "news['Timestamp'] = news['Timestamp'].values.astype('M8[D]')\n",
      "\n",
      "#load news count\n",
      "news_count = pd.read_csv('../data/keyword_list.csv', sep=',', names=['ID', 'Topic', 'Count'])\n",
      "\n",
      "#load treasury data (and percent changes)\n",
      "treasury = pd.read_csv('../data/treasury.csv', names=['Date', 'PercentChange'],header=True, parse_dates=True)\n",
      "treasury['Date'] = pd.to_datetime(treasury['Date'].str[:10], format = '%Y-%m-%d')\n",
      "treasury['PercentChange'] = treasury['PercentChange'].convert_objects(convert_numeric=True)\n",
      "treasury = treasury.set_index(pd.DatetimeIndex(treasury['Date']))"
     ],
     "language": "python",
     "metadata": {},
     "outputs": [
      {
       "output_type": "stream",
       "stream": "stderr",
       "text": [
        "/Library/Python/2.7/site-packages/pandas/io/parsers.py:1154: DtypeWarning: Columns (0,2) have mixed types. Specify dtype option on import or set low_memory=False.\n",
        "  data = self._reader.read(nrows)\n"
       ]
      }
     ],
     "prompt_number": 3
    },
    {
     "cell_type": "code",
     "collapsed": false,
     "input": [
      "#for each topic, get the dates where it occurs and its country\n",
      "def getDateCount(topic) :\n",
      "    filteredNews = news[news['Keywords'].str.contains(topic)]\n",
      "    dates = filteredNews['Timestamp'].tolist()\n",
      "    datesCount = {}\n",
      "    for date in dates :\n",
      "        if date not in datesCount:\n",
      "            datesCount[date] = 1\n",
      "        else :\n",
      "            datesCount[date] += 1\n",
      "    return datesCount"
     ],
     "language": "python",
     "metadata": {},
     "outputs": [],
     "prompt_number": 6
    },
    {
     "cell_type": "code",
     "collapsed": false,
     "input": [
      "frequentTopics = news_count['Topic'].tolist()\n",
      "\n",
      "#for each list of dates, get the average of percent changes\n",
      "def getChangeAvg(dates):\n",
      "    valueList = []\n",
      "    for date in dates :\n",
      "        newDate = date.strftime('%Y-%m-%d')\n",
      "        indexList = treasury[treasury['Date']== newDate].index.tolist()\n",
      "        newTre = treasury.loc[indexList]\n",
      "        newlist = newTre['PercentChange'].tolist()\n",
      "        if (len(newlist)!=0):\n",
      "            valueList.append(newlist[0])\n",
      "    return np.nanmean(valueList)"
     ],
     "language": "python",
     "metadata": {},
     "outputs": [],
     "prompt_number": 12
    },
    {
     "cell_type": "code",
     "collapsed": false,
     "input": [
      "topic_avg = []\n",
      "\n",
      "#for each topic, get the average percent changes\n",
      "for topic in frequentTopics :\n",
      "    try :\n",
      "        dates = getDateCount(topic)\n",
      "    except :\n",
      "        print \"error in parsing dates\"\n",
      "    topic_avg.append(getChangeAvg(dates))"
     ],
     "language": "python",
     "metadata": {},
     "outputs": []
    },
    {
     "cell_type": "code",
     "collapsed": false,
     "input": [
      "#store to csv\n",
      "news_count_change = news_count\n",
      "news_count_change['Changes'] = topic_avg\n",
      "news_count_change.to_csv('../data/keyword_list_count.csv',index=False)"
     ],
     "language": "python",
     "metadata": {},
     "outputs": []
    }
   ],
   "metadata": {}
  }
 ]
}