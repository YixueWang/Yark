{
 "metadata": {
  "name": "",
  "signature": "sha256:edd0485506b1b738f5747a88ddcf03973dcae15a26fc44a58419de5ac371e4e9"
 },
 "nbformat": 3,
 "nbformat_minor": 0,
 "worksheets": [
  {
   "cells": [
    {
     "cell_type": "code",
     "collapsed": false,
     "input": [
      "#*****************PROJECT YARK*********************/\n",
      "#* Ariel Boris Dexter bad225@nyu.edu */\n",
      "#* Kania Azrina ka1531@nyu.edu       */\n",
      "#* Michael Rawson mr4209             */\n",
      "#* Yixue Wang yw1819@nyu.edu         */\n",
      "#**************************************************/\n",
      "\n",
      "%matplotlib inline\n",
      "\n",
      "#import required packages\n",
      "import sys\n",
      "import datetime\n",
      "import csv\n",
      "import math\n",
      "import pandas as pd \n",
      "import numpy as np \n",
      "from scipy import stats \n",
      "import statsmodels.formula.api as sm\n",
      "import matplotlib.pyplot as plt\n",
      "from statsmodels.sandbox.regression.predstd import wls_prediction_std\n",
      "from mpltools import style\n",
      "from mpltools import layout\n",
      "from pandas.tools.plotting import autocorrelation_plot\n",
      "import json"
     ],
     "language": "python",
     "metadata": {},
     "outputs": [],
     "prompt_number": 369
    },
    {
     "cell_type": "code",
     "collapsed": false,
     "input": [
      "#load news sequence from R\n",
      "news_sequence = pd.read_csv('../data/news_sequence_0025.csv', sep='\t', names=['ID', 'Sequence', 'Confidence'], header=True)"
     ],
     "language": "python",
     "metadata": {},
     "outputs": [],
     "prompt_number": 396
    },
    {
     "cell_type": "code",
     "collapsed": false,
     "input": [
      "#clean the news\n",
      "news_sequence['Sequence'] = news_sequence['Sequence'].apply(lambda x : x.replace(\"{\",\"\"))\n",
      "news_sequence['Sequence'] = news_sequence['Sequence'].apply(lambda x : x.replace(\"}\",\"\"))\n",
      "news_sequence['Sequence'] = news_sequence['Sequence'].apply(lambda x : x.replace(\"<\",\"\"))\n",
      "news_sequence['Sequence'] = news_sequence['Sequence'].apply(lambda x : x.replace(\">\",\"\"))"
     ],
     "language": "python",
     "metadata": {},
     "outputs": [],
     "prompt_number": 398
    },
    {
     "cell_type": "code",
     "collapsed": false,
     "input": [
      "#define the variables\n",
      "news_id_list = news_sequence['ID'].tolist()\n",
      "news_seq_list = news_sequence['Sequence'].tolist()\n",
      "news_conf_list = news_sequence['Confidence'].tolist()\n",
      "news_seq_nested = []\n",
      "news_conf_nested = []\n",
      "keyword_map = {}\n",
      "conf_map = {}\n",
      "keyword_tree = {}\n",
      "root = '3474' #can be changed\n",
      "root_count = 0\n",
      "node_id = 0\n",
      "keyword_tree = {}"
     ],
     "language": "python",
     "metadata": {},
     "outputs": [],
     "prompt_number": 399
    },
    {
     "cell_type": "code",
     "collapsed": false,
     "input": [
      "#make the list of news sequence\n",
      "for seq in news_seq_list :\n",
      "    seq = seq.split(\",\")\n",
      "    news_seq_nested.append(seq)"
     ],
     "language": "python",
     "metadata": {},
     "outputs": [],
     "prompt_number": 400
    },
    {
     "cell_type": "code",
     "collapsed": false,
     "input": [
      "#read file from keyword list and save it to dictionary\n",
      "with open('keyword_list.csv', 'rb') as f:\n",
      "    reader = csv.reader(f)\n",
      "    reader.next() #skipheader\n",
      "    \n",
      "    for row in reader:\n",
      "        keyword_id = row[0]\n",
      "        keyword_conf=row[2]\n",
      "        keyword=row[1]\n",
      "        \n",
      "        if keyword_id not in keyword_map :\n",
      "            keyword_map[keyword_id] = keyword\n",
      "            conf_map[keyword_id] = keyword_conf\n",
      "\n",
      "#return name of specific sequence id           \n",
      "def getName(keyword_id):\n",
      "    return keyword_map[keyword_id]"
     ],
     "language": "python",
     "metadata": {},
     "outputs": [],
     "prompt_number": 401
    },
    {
     "cell_type": "code",
     "collapsed": false,
     "input": [
      "keyword_tree['name'] = getName(root)\n",
      "keyword_tree['count'] = root_conf\n",
      "keyword_tree['children_list'] = []\n",
      "keyword_tree['parent'] = 'null'\n",
      "keyword_tree['children'] = []\n",
      "keyword_tree['conf'] = 'null'\n",
      "\n",
      "#changes children dictionary to list \n",
      "def checkChildren(child_list):\n",
      "    keyword_list = []\n",
      "    for key in child_list:    \n",
      "        keyword_list.append(key) \n",
      "    return keyword_list\n",
      "\n",
      "#build the tree from sequence \n",
      "for seq in news_seq_nested:\n",
      "    pos = 0\n",
      "    if seq[0] == root :\n",
      "        keyword_tree['count'] += 1     \n",
      "        pos += 1\n",
      "        if (pos < len(seq)):\n",
      "            new_list = [root]\n",
      "            new_list.append(seq[pos])\n",
      "            node_id = news_id_list[news_seq_nested.index(new_list)]  \n",
      "            conf_id = news_conf_list[news_seq_nested.index(new_list)]  \n",
      "            if node_id not in checkChildren(keyword_tree['children_list']):  \n",
      "                keyword_tree['children_list'].append(node_id)\n",
      "                keyword_tree[node_id] = {}\n",
      "                keyword_tree[node_id]['name'] = getName(seq[pos])\n",
      "                keyword_tree[node_id]['count'] = 1\n",
      "                keyword_tree[node_id]['parent'] = keyword_tree['name']\n",
      "                keyword_tree['children'].append(keyword_tree[node_id])\n",
      "                keyword_tree[node_id]['conf'] = conf_id\n",
      "            else :\n",
      "                keyword_tree[node_id]['count'] += 1\n",
      "                pos +=1\n",
      "                if (pos < len(seq)):\n",
      "                    new_list.append(seq[pos])\n",
      "                    keyword_tree[node_id]['children_list'] = []\n",
      "                    keyword_tree[node_id]['children'] = []\n",
      "                    node_id_2 = news_id_list[news_seq_nested.index(new_list)]\n",
      "                    conf_id_2 = news_conf_list[news_seq_nested.index(new_list)]\n",
      "                    if seq[pos] not in checkChildren(keyword_tree[node_id]['children_list']):       \n",
      "                        keyword_tree[node_id]['children_list'].append(node_id_2)\n",
      "                        keyword_tree[node_id][node_id_2] = {}\n",
      "                        keyword_tree[node_id][node_id_2]['name'] = getName(seq[pos])\n",
      "                        keyword_tree[node_id][node_id_2]['count'] = 1\n",
      "                        keyword_tree[node_id][node_id_2]['parent'] = keyword_tree[node_id]['name']\n",
      "                        keyword_tree[node_id][node_id_2]['conf'] = conf_id_2\n",
      "                        for idx in keyword_tree['children']:\n",
      "                            for key in idx :\n",
      "                                if key == 'children':\n",
      "                                    idx['children'].append(keyword_tree[node_id][node_id_2])\n",
      "                    else :\n",
      "                        keyword_tree[node_id][node_id_2]['count'] +=1                             "
     ],
     "language": "python",
     "metadata": {},
     "outputs": [],
     "prompt_number": 411
    },
    {
     "cell_type": "code",
     "collapsed": false,
     "input": [
      "#save to json\n",
      "with open('../app/keyword_tree.json', 'w') as fp:\n",
      "    json.dump(keyword_tree, fp)"
     ],
     "language": "python",
     "metadata": {},
     "outputs": [],
     "prompt_number": 412
    }
   ],
   "metadata": {}
  }
 ]
}