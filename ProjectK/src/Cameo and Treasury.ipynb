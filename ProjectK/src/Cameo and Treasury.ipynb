{
 "metadata": {
  "name": "",
  "signature": "sha256:5f742fa3ddcb8e65356b529ef621500f40c824df212a47f1f949040b22a56999"
 },
 "nbformat": 3,
 "nbformat_minor": 0,
 "worksheets": []
}